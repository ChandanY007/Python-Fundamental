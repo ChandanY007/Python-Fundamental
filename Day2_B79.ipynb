{
 "cells": [
  {
   "cell_type": "code",
   "execution_count": 2,
   "id": "3804cd9e",
   "metadata": {},
   "outputs": [],
   "source": [
    "x = 2\n",
    "y = 5"
   ]
  },
  {
   "cell_type": "code",
   "execution_count": 3,
   "id": "b9c6c61f",
   "metadata": {},
   "outputs": [
    {
     "name": "stdout",
     "output_type": "stream",
     "text": [
      "7\n"
     ]
    }
   ],
   "source": [
    "z = x+y\n",
    "\n",
    "print(z)"
   ]
  },
  {
   "cell_type": "code",
   "execution_count": null,
   "id": "df89872f",
   "metadata": {},
   "outputs": [],
   "source": []
  },
  {
   "cell_type": "code",
   "execution_count": null,
   "id": "828a75b2",
   "metadata": {},
   "outputs": [],
   "source": [
    "Rules for declaring the Variable:"
   ]
  },
  {
   "cell_type": "code",
   "execution_count": null,
   "id": "7306b358",
   "metadata": {},
   "outputs": [],
   "source": [
    "Rule 1: No Namespace while declaring the Varable"
   ]
  },
  {
   "cell_type": "code",
   "execution_count": null,
   "id": "633df77c",
   "metadata": {},
   "outputs": [],
   "source": []
  },
  {
   "cell_type": "code",
   "execution_count": 7,
   "id": "22913b4b",
   "metadata": {},
   "outputs": [
    {
     "ename": "SyntaxError",
     "evalue": "invalid syntax (1216000081.py, line 1)",
     "output_type": "error",
     "traceback": [
      "\u001b[1;36m  Cell \u001b[1;32mIn[7], line 1\u001b[1;36m\u001b[0m\n\u001b[1;33m    First Name = \"Chandan\"\u001b[0m\n\u001b[1;37m          ^\u001b[0m\n\u001b[1;31mSyntaxError\u001b[0m\u001b[1;31m:\u001b[0m invalid syntax\n"
     ]
    }
   ],
   "source": [
    "First Name = \"Chandan\"\n",
    "\n",
    "print (First name)"
   ]
  },
  {
   "cell_type": "code",
   "execution_count": 9,
   "id": "276af5a3",
   "metadata": {},
   "outputs": [
    {
     "name": "stdout",
     "output_type": "stream",
     "text": [
      "Chandan\n"
     ]
    }
   ],
   "source": [
    "firstname = 'Chandan'\n",
    "print(firstname)"
   ]
  },
  {
   "cell_type": "code",
   "execution_count": 10,
   "id": "93c2ea48",
   "metadata": {},
   "outputs": [
    {
     "name": "stdout",
     "output_type": "stream",
     "text": [
      "Chandan\n"
     ]
    }
   ],
   "source": [
    "first_name = 'Chandan'\n",
    "print(firstname)"
   ]
  },
  {
   "cell_type": "code",
   "execution_count": null,
   "id": "a71b46ee",
   "metadata": {},
   "outputs": [],
   "source": []
  },
  {
   "cell_type": "code",
   "execution_count": null,
   "id": "81f0f528",
   "metadata": {},
   "outputs": [],
   "source": [
    "Rule No 2 : A variable name should not start with number"
   ]
  },
  {
   "cell_type": "code",
   "execution_count": 11,
   "id": "e21adb02",
   "metadata": {},
   "outputs": [
    {
     "ename": "SyntaxError",
     "evalue": "invalid decimal literal (471478433.py, line 1)",
     "output_type": "error",
     "traceback": [
      "\u001b[1;36m  Cell \u001b[1;32mIn[11], line 1\u001b[1;36m\u001b[0m\n\u001b[1;33m    1firstname = 'chandan'\u001b[0m\n\u001b[1;37m    ^\u001b[0m\n\u001b[1;31mSyntaxError\u001b[0m\u001b[1;31m:\u001b[0m invalid decimal literal\n"
     ]
    }
   ],
   "source": [
    "1firstname = 'chandan'\n",
    "print(1firstname)"
   ]
  },
  {
   "cell_type": "code",
   "execution_count": 12,
   "id": "e74710e1",
   "metadata": {},
   "outputs": [
    {
     "name": "stdout",
     "output_type": "stream",
     "text": [
      "chandan\n"
     ]
    }
   ],
   "source": [
    "firstname1 = 'chandan'\n",
    "print(firstname1)"
   ]
  },
  {
   "cell_type": "code",
   "execution_count": null,
   "id": "8d56ed4b",
   "metadata": {},
   "outputs": [],
   "source": []
  },
  {
   "cell_type": "code",
   "execution_count": null,
   "id": "fdc92cf4",
   "metadata": {},
   "outputs": [],
   "source": [
    "Introduction to datatypes in python :"
   ]
  },
  {
   "cell_type": "code",
   "execution_count": null,
   "id": "54df236b",
   "metadata": {},
   "outputs": [],
   "source": [
    "1. String --- str\n",
    "2. Number --- integers (int), float(decimal numbers)\n",
    "3. lists  --- list\n",
    "4. tuples --- tuple\n",
    "5. dictionaries --- dict"
   ]
  },
  {
   "cell_type": "code",
   "execution_count": null,
   "id": "412144d3",
   "metadata": {},
   "outputs": [],
   "source": []
  },
  {
   "cell_type": "code",
   "execution_count": null,
   "id": "b62d48c2",
   "metadata": {},
   "outputs": [],
   "source": [
    "Classification of Datatype :\n",
    "    1. Mutable Datatype --- which can be edit/altered\n",
    "    2. imutable Datatype --- which cannot be edit/altered"
   ]
  },
  {
   "cell_type": "code",
   "execution_count": null,
   "id": "dd700c6f",
   "metadata": {},
   "outputs": [],
   "source": []
  },
  {
   "cell_type": "code",
   "execution_count": null,
   "id": "f6e4c9b5",
   "metadata": {},
   "outputs": [],
   "source": [
    "Introduction to String Datatype:\n",
    "\n",
    "Defination: A string is a series of characters declared in quotes(Single or Double).\n",
    "Classification: It is  classified as an immutable datatype\n",
    "    \n",
    "    How to declare the string ?\n",
    "    1. Single quote\n",
    "    2. Double quote"
   ]
  },
  {
   "cell_type": "code",
   "execution_count": null,
   "id": "2be87cbe",
   "metadata": {},
   "outputs": [],
   "source": []
  },
  {
   "cell_type": "code",
   "execution_count": 13,
   "id": "8e83e225",
   "metadata": {},
   "outputs": [
    {
     "name": "stdout",
     "output_type": "stream",
     "text": [
      "chandan\n"
     ]
    }
   ],
   "source": [
    "name = 'chandan'  #single quote\n",
    "print(name)"
   ]
  },
  {
   "cell_type": "code",
   "execution_count": 15,
   "id": "1b8bbe0d",
   "metadata": {},
   "outputs": [
    {
     "name": "stdout",
     "output_type": "stream",
     "text": [
      "chandan\n"
     ]
    }
   ],
   "source": [
    "name = \"chandan\"  #Double quote\n",
    "print(name)"
   ]
  },
  {
   "cell_type": "code",
   "execution_count": null,
   "id": "7f809944",
   "metadata": {},
   "outputs": [],
   "source": []
  },
  {
   "cell_type": "code",
   "execution_count": null,
   "id": "77fce6f1",
   "metadata": {},
   "outputs": [],
   "source": []
  },
  {
   "cell_type": "code",
   "execution_count": null,
   "id": "b5651d01",
   "metadata": {},
   "outputs": [],
   "source": []
  },
  {
   "cell_type": "code",
   "execution_count": null,
   "id": "18fcc018",
   "metadata": {},
   "outputs": [],
   "source": []
  },
  {
   "cell_type": "code",
   "execution_count": null,
   "id": "2eb6066d",
   "metadata": {},
   "outputs": [],
   "source": []
  },
  {
   "cell_type": "code",
   "execution_count": null,
   "id": "b213988b",
   "metadata": {},
   "outputs": [],
   "source": []
  },
  {
   "cell_type": "code",
   "execution_count": null,
   "id": "b4cd9f25",
   "metadata": {},
   "outputs": [],
   "source": []
  }
 ],
 "metadata": {
  "kernelspec": {
   "display_name": "Python 3 (ipykernel)",
   "language": "python",
   "name": "python3"
  },
  "language_info": {
   "codemirror_mode": {
    "name": "ipython",
    "version": 3
   },
   "file_extension": ".py",
   "mimetype": "text/x-python",
   "name": "python",
   "nbconvert_exporter": "python",
   "pygments_lexer": "ipython3",
   "version": "3.10.9"
  }
 },
 "nbformat": 4,
 "nbformat_minor": 5
}
