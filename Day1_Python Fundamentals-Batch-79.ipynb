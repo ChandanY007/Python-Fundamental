{
 "cells": [
  {
   "cell_type": "code",
   "execution_count": 1,
   "id": "1418a50f",
   "metadata": {},
   "outputs": [
    {
     "name": "stdout",
     "output_type": "stream",
     "text": [
      " Hey there Good morning\n"
     ]
    }
   ],
   "source": [
    "print(\" Hey there Good morning\")"
   ]
  },
  {
   "cell_type": "code",
   "execution_count": 4,
   "id": "0d4771b4",
   "metadata": {},
   "outputs": [
    {
     "name": "stdout",
     "output_type": "stream",
     "text": [
      "Day 1- Practice session\n"
     ]
    }
   ],
   "source": [
    "print(\"Day 1- Practice session\")"
   ]
  },
  {
   "cell_type": "code",
   "execution_count": null,
   "id": "79d6709d",
   "metadata": {},
   "outputs": [],
   "source": []
  }
 ],
 "metadata": {
  "kernelspec": {
   "display_name": "Python 3 (ipykernel)",
   "language": "python",
   "name": "python3"
  },
  "language_info": {
   "codemirror_mode": {
    "name": "ipython",
    "version": 3
   },
   "file_extension": ".py",
   "mimetype": "text/x-python",
   "name": "python",
   "nbconvert_exporter": "python",
   "pygments_lexer": "ipython3",
   "version": "3.10.9"
  }
 },
 "nbformat": 4,
 "nbformat_minor": 5
}
